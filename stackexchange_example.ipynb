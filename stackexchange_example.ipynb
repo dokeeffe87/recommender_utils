{
 "cells": [
  {
   "cell_type": "markdown",
   "metadata": {},
   "source": [
    "## We'll see if we can improve the standard stack exchange example\n",
    "* use optimized model and test it against the standard hybrid and pure CF approaches\n",
    "* We'll also use batches in the optimization method to output checkpoints and restart learning so if something happens, or you end the process prematurely, your search space progress has been saved."
   ]
  },
  {
   "cell_type": "code",
   "execution_count": 49,
   "metadata": {},
   "outputs": [],
   "source": [
    "# import modules\n",
    "\n",
    "import os\n",
    "import sys\n",
    "\n",
    "import pandas as pd\n",
    "import numpy as np\n",
    "\n",
    "import matplotlib.pyplot as plt\n",
    "%matplotlib inline\n",
    "import seaborn as sns\n",
    "\n",
    "from tqdm import tqdm\n",
    "\n",
    "from scipy import sparse\n",
    "\n",
    "import recommender_utils\n",
    "import sb_utils\n",
    "import lightfm_hyperopt\n",
    "\n",
    "from lightfm import LightFM\n",
    "from lightfm.cross_validation import random_train_test_split\n",
    "from lightfm.evaluation import auc_score, precision_at_k, recall_at_k, reciprocal_rank\n",
    "\n",
    "import warnings\n",
    "warnings.filterwarnings(\"ignore\")"
   ]
  },
  {
   "cell_type": "code",
   "execution_count": 50,
   "metadata": {},
   "outputs": [],
   "source": [
    "# set pandas preferences\n",
    "pd.options.display.max_columns=50\n",
    "pd.options.display.max_colwidth=500"
   ]
  },
  {
   "cell_type": "code",
   "execution_count": 51,
   "metadata": {},
   "outputs": [],
   "source": [
    "# set plot style\n",
    "sns.set()"
   ]
  },
  {
   "cell_type": "code",
   "execution_count": 52,
   "metadata": {},
   "outputs": [],
   "source": [
    "from importlib import reload"
   ]
  },
  {
   "cell_type": "code",
   "execution_count": 53,
   "metadata": {},
   "outputs": [
    {
     "data": {
      "text/plain": [
       "<module 'recommender_utils' from '/Users/danielokeeffe/Documents/src/recommender_utils/recommender_utils.py'>"
      ]
     },
     "execution_count": 53,
     "metadata": {},
     "output_type": "execute_result"
    }
   ],
   "source": [
    "reload(lightfm_hyperopt)\n",
    "reload(recommender_utils)"
   ]
  },
  {
   "cell_type": "markdown",
   "metadata": {},
   "source": [
    "## Load data"
   ]
  },
  {
   "cell_type": "code",
   "execution_count": 4,
   "metadata": {},
   "outputs": [],
   "source": [
    "# We'll try the stack exchange dataset. It's already processed, so we can just go right to the model\n",
    "from lightfm.datasets import fetch_stackexchange"
   ]
  },
  {
   "cell_type": "code",
   "execution_count": 5,
   "metadata": {},
   "outputs": [],
   "source": [
    "data = fetch_stackexchange('crossvalidated',\n",
    "                           test_set_fraction=0.1,\n",
    "                           indicator_features=False,\n",
    "                           tag_features=True)\n",
    "\n",
    "# The train and test split should be done by time.\n",
    "train = data['train']\n",
    "test = data['test']"
   ]
  },
  {
   "cell_type": "code",
   "execution_count": 6,
   "metadata": {},
   "outputs": [
    {
     "name": "stdout",
     "output_type": "stream",
     "text": [
      "The dataset has 3213 users and 72360 items, with 4453 interactions in the test and 57795 interactions in the training set.\n"
     ]
    }
   ],
   "source": [
    "print('The dataset has %s users and %s items, '\n",
    "      'with %s interactions in the test and %s interactions in the training set.'\n",
    "      % (train.shape[0], train.shape[1], test.getnnz(), train.getnnz()))"
   ]
  },
  {
   "cell_type": "markdown",
   "metadata": {},
   "source": [
    "## Note:\n",
    "In older versions of LightFM there is a bug in the processing of this provided dataset.  You'll know if you have this version if you run the \"test_auc_cf = ...\" line below.  If this is the case you can, for now, change check_intersections=False\". To fix the bug permanently, either upgrade your version of LightFM, or in the LightFM pacakge, change the stackexchange.py file in the Datasets directory.  Around line 100, you'll see a line that looks like \"tag_feature_mat = sp.coo_matrix(...)\".  Below that line, add \"interactions.sum_duplicates()\". Save and restart your kernel, and you should be good to go."
   ]
  },
  {
   "cell_type": "markdown",
   "metadata": {},
   "source": [
    "## Pure Collaborative Filtering (CF)"
   ]
  },
  {
   "cell_type": "code",
   "execution_count": 9,
   "metadata": {},
   "outputs": [],
   "source": [
    "# Set the number of threads to use.  If you have lots, give it a try.\n",
    "NUM_THREADS = 1"
   ]
  },
  {
   "cell_type": "code",
   "execution_count": 10,
   "metadata": {},
   "outputs": [],
   "source": [
    "model_cf = LightFM(loss='warp')"
   ]
  },
  {
   "cell_type": "code",
   "execution_count": 11,
   "metadata": {},
   "outputs": [],
   "source": [
    "model_cf = model_cf.fit(train, num_threads=NUM_THREADS)"
   ]
  },
  {
   "cell_type": "code",
   "execution_count": 12,
   "metadata": {},
   "outputs": [
    {
     "name": "stdout",
     "output_type": "stream",
     "text": [
      "Collaborative filtering train AUC: 0.7635599\n"
     ]
    }
   ],
   "source": [
    "# Training set performance\n",
    "train_auc_cf = auc_score(model_cf, train, num_threads=NUM_THREADS).mean()\n",
    "print('Collaborative filtering train AUC: %s' % train_auc_cf)"
   ]
  },
  {
   "cell_type": "code",
   "execution_count": 13,
   "metadata": {},
   "outputs": [
    {
     "name": "stdout",
     "output_type": "stream",
     "text": [
      "Collaborative filtering test AUC: 0.40029788\n"
     ]
    }
   ],
   "source": [
    "# Test set performance. \n",
    "test_auc_cf = auc_score(model_cf, test, train_interactions=train, num_threads=NUM_THREADS, check_intersections=True).mean()\n",
    "print('Collaborative filtering test AUC: %s' % test_auc_cf)"
   ]
  },
  {
   "cell_type": "markdown",
   "metadata": {},
   "source": [
    "This is a terrible model.  The reason is that there is no training data for most of the items in the test set, so a CF model just can't compute a reasonable representation of the test set items.  Remember, the training set contains all of the users and items, but positive interaction between them is\n",
    "masked.  The test set also contains all of the user and items, but the test interactions are now unmasked and the model is asked to recommend on these examples.  The results are then\n",
    "compared to the true outcomes.  CF models are notoriously bad at this kind of thing since they rely entirely on interactions between known users and items.  If there are new user and/\n",
    "or items, the model cannot use its already learned reprentations to do anything sensible.  "
   ]
  },
  {
   "cell_type": "markdown",
   "metadata": {},
   "source": [
    "## Out of the box hybrid model\n",
    "* The hybrid model will use features about the available items to compute more generalizable representations of them.\n",
    "* When asked to recommend on an item it has not seen in the training set, it will fall back on these representations to make a prediction"
   ]
  },
  {
   "cell_type": "code",
   "execution_count": 14,
   "metadata": {},
   "outputs": [
    {
     "name": "stdout",
     "output_type": "stream",
     "text": [
      "There are 1246 distinct tags, with values like ['bayesian', 'prior', 'elicitation'].\n"
     ]
    }
   ],
   "source": [
    "item_features = data['item_features']\n",
    "tag_labels = data['item_feature_labels']\n",
    "\n",
    "print('There are %s distinct tags, with values like %s.' % (item_features.shape[1], tag_labels[:3].tolist()))"
   ]
  },
  {
   "cell_type": "code",
   "execution_count": 15,
   "metadata": {},
   "outputs": [],
   "source": [
    "model_hybrid_base = LightFM(loss='warp')"
   ]
  },
  {
   "cell_type": "code",
   "execution_count": 16,
   "metadata": {},
   "outputs": [],
   "source": [
    "model_hybrid_base = model_hybrid_base.fit(train,\n",
    "                                          item_features=item_features,\n",
    "                                          num_threads=NUM_THREADS)"
   ]
  },
  {
   "cell_type": "code",
   "execution_count": 17,
   "metadata": {},
   "outputs": [
    {
     "name": "stdout",
     "output_type": "stream",
     "text": [
      "Hybrid base training set AUC: 0.7427175\n"
     ]
    }
   ],
   "source": [
    "# Train auc\n",
    "train_auc_hybrid_base = auc_score(model_hybrid_base,\n",
    "                                  train,\n",
    "                                  item_features=item_features,\n",
    "                                  num_threads=NUM_THREADS).mean()\n",
    "print('Hybrid base training set AUC: %s' % train_auc_hybrid_base)"
   ]
  },
  {
   "cell_type": "code",
   "execution_count": 18,
   "metadata": {},
   "outputs": [
    {
     "name": "stdout",
     "output_type": "stream",
     "text": [
      "Hybrid test set AUC: 0.6758338\n"
     ]
    }
   ],
   "source": [
    "# Test auc\n",
    "test_auc_hybrid_base = auc_score(model_hybrid_base,\n",
    "                                 test,\n",
    "                                 item_features=item_features,\n",
    "                                 num_threads=NUM_THREADS,\n",
    "                                 check_intersections=True).mean()\n",
    "print('Hybrid test set AUC: %s' % test_auc_hybrid_base)"
   ]
  },
  {
   "cell_type": "code",
   "execution_count": 19,
   "metadata": {},
   "outputs": [],
   "source": [
    "# Much better.  This is a significant improvement. No big surprise, the cold start problem can now be approach sensibly"
   ]
  },
  {
   "cell_type": "markdown",
   "metadata": {},
   "source": [
    "## Improved model\n",
    "* Let's see if we can ramp this up\n",
    "* If we can't improve the data we're using, then the issue becomes one of model optimization.  In particular, the hyperparameters are not inutative to set.  For example, one of the hyperparameters is the number of components to use in constructing the item and user embedding matrices.  The dimensionality of this matrix is not obvious and we should explore a range to see if we can figure out an appropriate value.\n",
    "* We'll use a Bayesian approach to explore the possible space of parameters\n",
    "* The lightfm_hyperopt module provides helper functions to let hyperopt work with the LightFM hybrid recommender model\n",
    "* Hyperopt is a python package that allows you to use a version of Sequential Model Based Optimization (SMBO). \n",
    "* SMBO is a general framework for using Bayesian inference with a surrogate model, which provides a proxy for the full function you want to evaluate (in this case, the actual model fit) which is expensive to evaluate.  A full description of how this works is beyond the scope of this example\n",
    "* The module exposes two options for model hyperparameter search.  Tree Parzen estimators (which is a Bayesian technique, i.e. the prior distribution is a combination of Parzen estimators, also called kernel density estimates), and random search (non-Bayesian technique)\n",
    "* The lightfm_hyperopt module also gives you the option to search the parameter space in batches, outputing checkpoints at a desired frequency of evaluations.  The number of evaluations (i.e. iterations) you run the search for is an input.  Too few and you won't properly explore the space, too many and you're wasting time.  By checkpointing, you can stop the evaluation and record the last best recorded solution.\n",
    "* There is also an option to do early stopping on the hyperparameter search."
   ]
  },
  {
   "cell_type": "code",
   "execution_count": 20,
   "metadata": {},
   "outputs": [],
   "source": [
    "# Define the space of possible hyperparameters and fit parameters for the model. I've already selected the warp metric as being the best here, but you can add all of \n",
    "# the available loss functions if you like.  The warp metric generally results in a model with better average auc score. \n",
    "hyperparams_dict = {'no_components': ['choice', range(40, 100)],\n",
    "                    'learning_schedule': ['choice', ['adagrad', 'adadelta']],\n",
    "                    'loss': ['choice', ['warp']],\n",
    "                    'learning_rate': ['uniform', [0.01, 0.1]],\n",
    "                    'item_alpha': ['uniform', [0, 1e-5]]}\n",
    "fit_params_dict = {'num_threads': 1, 'num_epochs': ['choice', range(30, 50)]}"
   ]
  },
  {
   "cell_type": "code",
   "execution_count": 21,
   "metadata": {},
   "outputs": [
    {
     "name": "stdout",
     "output_type": "stream",
     "text": [
      "Running hyperopt hyperparameter search\n",
      "Running in cross validation mode for 3 folds\n",
      "Running for 30 evaluations in batches of 10 for a total of 3 batches\n",
      "completed fold: 1\n",
      "completed fold: 2\n",
      "completed fold: 3\n",
      "completed all folds in current iteration, starting next iteration\n",
      "completed fold: 1\n",
      "completed fold: 2\n",
      "completed fold: 3\n",
      "completed all folds in current iteration, starting next iteration\n",
      "completed fold: 1\n",
      "completed fold: 2\n",
      "completed fold: 3\n",
      "completed all folds in current iteration, starting next iteration\n",
      "completed fold: 1\n",
      "completed fold: 2\n",
      "completed fold: 3\n",
      "completed all folds in current iteration, starting next iteration\n",
      "completed fold: 1\n",
      "completed fold: 2\n",
      "completed fold: 3\n",
      "completed all folds in current iteration, starting next iteration\n",
      "completed fold: 1\n",
      "completed fold: 2\n",
      "completed fold: 3\n",
      "completed all folds in current iteration, starting next iteration\n",
      "completed fold: 1\n",
      "completed fold: 2\n",
      "completed fold: 3\n",
      "completed all folds in current iteration, starting next iteration\n",
      "completed fold: 1\n",
      "completed fold: 2\n",
      "completed fold: 3\n",
      "completed all folds in current iteration, starting next iteration\n",
      "completed fold: 1\n",
      "completed fold: 2\n",
      "completed fold: 3\n",
      "completed all folds in current iteration, starting next iteration\n",
      "completed fold: 1\n",
      "completed fold: 2\n",
      "completed fold: 3\n",
      "completed all folds in current iteration, starting next iteration\n",
      "100%|██████████| 10/10 [16:06<00:00, 90.56s/it, best loss: -0.7191997170448303]\n",
      "completed batch: 1\n",
      "completed evaluations: 0 to 10\n",
      "completed fold: 1\n",
      "completed fold: 2\n",
      "completed fold: 3\n",
      "completed all folds in current iteration, starting next iteration\n",
      "completed fold: 1\n",
      "completed fold: 2\n",
      "completed fold: 3\n",
      "completed all folds in current iteration, starting next iteration\n",
      "completed fold: 1\n",
      "completed fold: 2\n",
      "completed fold: 3\n",
      "completed all folds in current iteration, starting next iteration\n",
      "completed fold: 1\n",
      "completed fold: 2\n",
      "completed fold: 3\n",
      "completed all folds in current iteration, starting next iteration\n",
      "completed fold: 1\n",
      "completed fold: 2\n",
      "completed fold: 3\n",
      "completed all folds in current iteration, starting next iteration\n",
      "completed fold: 1\n",
      "completed fold: 2\n",
      "completed fold: 3\n",
      "completed all folds in current iteration, starting next iteration\n",
      "completed fold: 1\n",
      "completed fold: 2\n",
      "completed fold: 3\n",
      "completed all folds in current iteration, starting next iteration\n",
      "completed fold: 1\n",
      "completed fold: 2\n",
      "completed fold: 3\n",
      "completed all folds in current iteration, starting next iteration\n",
      "completed fold: 1\n",
      "completed fold: 2\n",
      "completed fold: 3\n",
      "completed all folds in current iteration, starting next iteration\n",
      "completed fold: 1\n",
      "completed fold: 2\n",
      "completed fold: 3\n",
      "completed all folds in current iteration, starting next iteration\n",
      "100%|██████████| 10/10 [15:52<00:00, 85.76s/it, best loss: -0.7208077907562256]\n",
      "completed batch: 2\n",
      "completed evaluations: 10 to 20\n",
      "completed fold: 1\n",
      "completed fold: 2\n",
      "completed fold: 3\n",
      "completed all folds in current iteration, starting next iteration\n",
      "completed fold: 1\n",
      "completed fold: 2\n",
      "completed fold: 3\n",
      "completed all folds in current iteration, starting next iteration\n",
      "completed fold: 1\n",
      "completed fold: 2\n",
      "completed fold: 3\n",
      "completed all folds in current iteration, starting next iteration\n",
      "completed fold: 1\n",
      "completed fold: 2\n",
      "completed fold: 3\n",
      "completed all folds in current iteration, starting next iteration\n",
      "completed fold: 1\n",
      "completed fold: 2\n",
      "completed fold: 3\n",
      "completed all folds in current iteration, starting next iteration\n",
      "completed fold: 1\n",
      "completed fold: 2\n",
      "completed fold: 3\n",
      "completed all folds in current iteration, starting next iteration\n",
      "completed fold: 1\n",
      "completed fold: 2\n",
      "completed fold: 3\n",
      "completed all folds in current iteration, starting next iteration\n",
      "completed fold: 1\n",
      "completed fold: 2\n",
      "completed fold: 3\n",
      "completed all folds in current iteration, starting next iteration\n",
      "completed fold: 1\n",
      "completed fold: 2\n",
      "completed fold: 3\n",
      "completed all folds in current iteration, starting next iteration\n",
      "completed fold: 1\n",
      "completed fold: 2\n",
      "completed fold: 3\n",
      "completed all folds in current iteration, starting next iteration\n",
      "100%|██████████| 10/10 [13:54<00:00, 82.94s/it, best loss: -0.7390968203544617]\n",
      "completed batch: 3\n",
      "completed evaluations: 20 to 30\n"
     ]
    }
   ],
   "source": [
    "# Run with 3 fold cross validation. Run for 30 maximum evaluations, with checkpoints every 10 evaluations\n",
    "best, trials = lightfm_hyperopt.fit_model_batch(interactions=train, \n",
    "                                                hyperparams_dict=hyperparams_dict, \n",
    "                                                fit_params_dict=fit_params_dict, \n",
    "                                                test_percentage=0.2, \n",
    "                                                item_features=item_features, \n",
    "                                                cv=3, \n",
    "                                                max_evals=30,\n",
    "                                                batch_size=10,\n",
    "                                                eval_metric='auc_score',\n",
    "                                                verbose=0)"
   ]
  },
  {
   "cell_type": "code",
   "execution_count": 22,
   "metadata": {},
   "outputs": [],
   "source": [
    "# This function will format the output best found hyperparameters and save them as a json file with your choice of name.  This will let you\n",
    "# re-load them at a future date should you desire to, without the need to re-run the parameter space search.\n",
    "best_params = lightfm_hyperopt.get_best_hyperparams(hyperparams_dict=hyperparams_dict, \n",
    "                                                    fit_params_dict=fit_params_dict, \n",
    "                                                    best=best, \n",
    "                                                    file_name='best_params_3_fold_cv_stackexchange_20191017a.json')"
   ]
  },
  {
   "cell_type": "code",
   "execution_count": 23,
   "metadata": {},
   "outputs": [
    {
     "data": {
      "text/plain": [
       "{'item_alpha': 1.190990781508593e-06,\n",
       " 'learning_rate': 0.021908539753897442,\n",
       " 'learning_schedule': 'adagrad',\n",
       " 'loss': 'warp',\n",
       " 'no_components': 43,\n",
       " 'num_epochs': 46}"
      ]
     },
     "execution_count": 23,
     "metadata": {},
     "output_type": "execute_result"
    }
   ],
   "source": [
    "best_params"
   ]
  },
  {
   "cell_type": "code",
   "execution_count": 24,
   "metadata": {},
   "outputs": [],
   "source": [
    "# Remove num_epochs since this is a fit parameter.  \n",
    "num_epochs = best_params.pop('num_epochs')"
   ]
  },
  {
   "cell_type": "code",
   "execution_count": 25,
   "metadata": {},
   "outputs": [
    {
     "name": "stdout",
     "output_type": "stream",
     "text": [
      "Fitting model in cross validation mode for 5 folds\n",
      "Completed fold: 1\n",
      "Fold 1 loss: 0.7369223833084106\n",
      "Completed fold: 2\n",
      "Fold 2 loss: 0.733478307723999\n",
      "Completed fold: 3\n",
      "Fold 3 loss: 0.7365027070045471\n",
      "Completed fold: 4\n",
      "Fold 4 loss: 0.7347378730773926\n",
      "Completed fold: 5\n",
      "Fold 5 loss: 0.7344011068344116\n",
      "Cross validation complete.\n",
      "Refitting model to all provided training data\n"
     ]
    }
   ],
   "source": [
    "# Re-train model with 5 fold cross validation on all available training data. This let's you do what is essentially nested\n",
    "# cross validation.\n",
    "model_train, cv_scores = lightfm_hyperopt.fit_cv(params=best_params, \n",
    "                                                 interactions=train, \n",
    "                                                 eval_metric='auc_score', \n",
    "                                                 num_epochs=num_epochs, \n",
    "                                                 num_threads=1, \n",
    "                                                 test_percentage=0.2, \n",
    "                                                 item_features=item_features, \n",
    "                                                 cv=5, \n",
    "                                                 seed=0, \n",
    "                                                 refit=True,\n",
    "                                                 verbose=0)"
   ]
  },
  {
   "cell_type": "code",
   "execution_count": 26,
   "metadata": {},
   "outputs": [
    {
     "name": "stdout",
     "output_type": "stream",
     "text": [
      "Hybrid hyperopt training set AUC: 0.9391249\n"
     ]
    }
   ],
   "source": [
    "# Train auc\n",
    "train_auc_hyperopt = auc_score(model_train,\n",
    "                               train,\n",
    "                               item_features=item_features,\n",
    "                               num_threads=NUM_THREADS).mean()\n",
    "print('Hybrid hyperopt training set AUC: %s' % train_auc_hyperopt)"
   ]
  },
  {
   "cell_type": "code",
   "execution_count": 27,
   "metadata": {},
   "outputs": [
    {
     "name": "stdout",
     "output_type": "stream",
     "text": [
      "Hybrid base test set AUC: 0.76568323\n"
     ]
    }
   ],
   "source": [
    "# Test auc\n",
    "test_auc_hyperopt = auc_score(model_train,\n",
    "                              test,\n",
    "                              item_features=item_features,\n",
    "                              num_threads=NUM_THREADS,\n",
    "                              check_intersections=True).mean()\n",
    "print('Hybrid base test set AUC: %s' % test_auc_hyperopt)"
   ]
  },
  {
   "cell_type": "code",
   "execution_count": 28,
   "metadata": {},
   "outputs": [],
   "source": [
    "# This is a significant improvement over the out of the box hybrid recommender model"
   ]
  },
  {
   "cell_type": "code",
   "execution_count": 29,
   "metadata": {},
   "outputs": [
    {
     "name": "stdout",
     "output_type": "stream",
     "text": [
      "Computing test set AUCs\n",
      "Computing test set recalls at 10\n",
      "Computing test set recalls at 20\n",
      "Computing test set recalls at 50\n",
      "Computing test set precisions at 10\n",
      "Computing test set precisions at 20\n",
      "Computing test set precisions at 50\n",
      "Computing test set reciprocal rank\n",
      "Computing metrics on training set as well\n",
      "Computing train set AUCs\n",
      "Computing train set recalls at 10\n",
      "Computing train set recalls at 20\n",
      "Computing train set recalls at 50\n",
      "Computing train set precisions at 10\n",
      "Computing train set precisions at 20\n",
      "Computing train set precisions at 50\n",
      "Computing train set reciprocal rank\n"
     ]
    }
   ],
   "source": [
    "# The recommender_utils module has a bunch of helper functions for computing evaluation metrics.\n",
    "eval_results_dict = recommender_utils.compute_eval_metrics(model=model_train, \n",
    "                                                           train_interactions=train, \n",
    "                                                           test_interactions=test, \n",
    "                                                           item_features=item_features, \n",
    "                                                           compute_on_train=True,\n",
    "                                                           preserve_rows=False,\n",
    "                                                           check_intersections=False)"
   ]
  },
  {
   "cell_type": "code",
   "execution_count": 30,
   "metadata": {},
   "outputs": [],
   "source": [
    "eval_summary_df = recommender_utils.compute_eval_metric_summaries(eval_dict=eval_results_dict)"
   ]
  },
  {
   "cell_type": "code",
   "execution_count": 31,
   "metadata": {},
   "outputs": [
    {
     "name": "stdout",
     "output_type": "stream",
     "text": [
      "Computing test set AUCs\n",
      "Computing test set recalls at 10\n",
      "Computing test set recalls at 20\n",
      "Computing test set recalls at 50\n",
      "Computing test set precisions at 10\n",
      "Computing test set precisions at 20\n",
      "Computing test set precisions at 50\n",
      "Computing test set reciprocal rank\n",
      "Computing metrics on training set as well\n",
      "Computing train set AUCs\n",
      "Computing train set recalls at 10\n",
      "Computing train set recalls at 20\n",
      "Computing train set recalls at 50\n",
      "Computing train set precisions at 10\n",
      "Computing train set precisions at 20\n",
      "Computing train set precisions at 50\n",
      "Computing train set reciprocal rank\n"
     ]
    }
   ],
   "source": [
    "# Compare this to the out of the box hybrid recommender.  The test set evaluation metrics should all be slightly better in the optimized\n",
    "# model.\n",
    "eval_results_baseline_dict = recommender_utils.compute_eval_metrics(model=model_hybrid_base, \n",
    "                                                                    train_interactions=train, \n",
    "                                                                    test_interactions=test, \n",
    "                                                                    item_features=item_features, \n",
    "                                                                    compute_on_train=True,\n",
    "                                                                    preserve_rows=False,\n",
    "                                                                    check_intersections=False)"
   ]
  },
  {
   "cell_type": "code",
   "execution_count": 32,
   "metadata": {},
   "outputs": [],
   "source": [
    "eval_baseline_summary_df = recommender_utils.compute_eval_metric_summaries(eval_dict=eval_results_baseline_dict)"
   ]
  },
  {
   "cell_type": "code",
   "execution_count": 33,
   "metadata": {},
   "outputs": [
    {
     "data": {
      "text/html": [
       "<div>\n",
       "<style scoped>\n",
       "    .dataframe tbody tr th:only-of-type {\n",
       "        vertical-align: middle;\n",
       "    }\n",
       "\n",
       "    .dataframe tbody tr th {\n",
       "        vertical-align: top;\n",
       "    }\n",
       "\n",
       "    .dataframe thead th {\n",
       "        text-align: right;\n",
       "    }\n",
       "</style>\n",
       "<table border=\"1\" class=\"dataframe\">\n",
       "  <thead>\n",
       "    <tr style=\"text-align: right;\">\n",
       "      <th></th>\n",
       "      <th>metric</th>\n",
       "      <th>number_observations</th>\n",
       "      <th>min</th>\n",
       "      <th>max</th>\n",
       "      <th>mean</th>\n",
       "      <th>variance</th>\n",
       "      <th>skewness</th>\n",
       "      <th>kurtosis</th>\n",
       "      <th>median</th>\n",
       "      <th>25th percentile</th>\n",
       "      <th>75th percentile</th>\n",
       "    </tr>\n",
       "  </thead>\n",
       "  <tbody>\n",
       "    <tr>\n",
       "      <th>0</th>\n",
       "      <td>test_auc</td>\n",
       "      <td>615</td>\n",
       "      <td>0.003054</td>\n",
       "      <td>0.999724</td>\n",
       "      <td>0.676032</td>\n",
       "      <td>0.055808</td>\n",
       "      <td>-0.739972</td>\n",
       "      <td>-0.007057</td>\n",
       "      <td>0.711047</td>\n",
       "      <td>0.535540</td>\n",
       "      <td>0.711047</td>\n",
       "    </tr>\n",
       "    <tr>\n",
       "      <th>1</th>\n",
       "      <td>test_recall_at_10</td>\n",
       "      <td>615</td>\n",
       "      <td>0.000000</td>\n",
       "      <td>0.066667</td>\n",
       "      <td>0.000400</td>\n",
       "      <td>0.000018</td>\n",
       "      <td>12.587138</td>\n",
       "      <td>169.126522</td>\n",
       "      <td>0.000000</td>\n",
       "      <td>0.000000</td>\n",
       "      <td>0.000000</td>\n",
       "    </tr>\n",
       "    <tr>\n",
       "      <th>2</th>\n",
       "      <td>test_recall_at_20</td>\n",
       "      <td>615</td>\n",
       "      <td>0.000000</td>\n",
       "      <td>0.200000</td>\n",
       "      <td>0.001080</td>\n",
       "      <td>0.000106</td>\n",
       "      <td>14.142572</td>\n",
       "      <td>239.735544</td>\n",
       "      <td>0.000000</td>\n",
       "      <td>0.000000</td>\n",
       "      <td>0.000000</td>\n",
       "    </tr>\n",
       "    <tr>\n",
       "      <th>3</th>\n",
       "      <td>test_recall_at_50</td>\n",
       "      <td>615</td>\n",
       "      <td>0.000000</td>\n",
       "      <td>1.000000</td>\n",
       "      <td>0.006327</td>\n",
       "      <td>0.002859</td>\n",
       "      <td>13.575886</td>\n",
       "      <td>217.605567</td>\n",
       "      <td>0.000000</td>\n",
       "      <td>0.000000</td>\n",
       "      <td>0.000000</td>\n",
       "    </tr>\n",
       "    <tr>\n",
       "      <th>4</th>\n",
       "      <td>test_precision_at_10</td>\n",
       "      <td>615</td>\n",
       "      <td>0.000000</td>\n",
       "      <td>0.400000</td>\n",
       "      <td>0.001951</td>\n",
       "      <td>0.000420</td>\n",
       "      <td>14.503047</td>\n",
       "      <td>248.946871</td>\n",
       "      <td>0.000000</td>\n",
       "      <td>0.000000</td>\n",
       "      <td>0.000000</td>\n",
       "    </tr>\n",
       "    <tr>\n",
       "      <th>5</th>\n",
       "      <td>test_precision_at_20</td>\n",
       "      <td>615</td>\n",
       "      <td>0.000000</td>\n",
       "      <td>0.350000</td>\n",
       "      <td>0.001951</td>\n",
       "      <td>0.000338</td>\n",
       "      <td>14.224979</td>\n",
       "      <td>235.837303</td>\n",
       "      <td>0.000000</td>\n",
       "      <td>0.000000</td>\n",
       "      <td>0.000000</td>\n",
       "    </tr>\n",
       "    <tr>\n",
       "      <th>6</th>\n",
       "      <td>test_precision_at_50</td>\n",
       "      <td>615</td>\n",
       "      <td>0.000000</td>\n",
       "      <td>0.140000</td>\n",
       "      <td>0.001691</td>\n",
       "      <td>0.000104</td>\n",
       "      <td>9.140030</td>\n",
       "      <td>100.182050</td>\n",
       "      <td>0.000000</td>\n",
       "      <td>0.000000</td>\n",
       "      <td>0.000000</td>\n",
       "    </tr>\n",
       "    <tr>\n",
       "      <th>7</th>\n",
       "      <td>test_reciprocal_rank</td>\n",
       "      <td>615</td>\n",
       "      <td>0.000014</td>\n",
       "      <td>0.500000</td>\n",
       "      <td>0.005401</td>\n",
       "      <td>0.001104</td>\n",
       "      <td>11.967932</td>\n",
       "      <td>164.278840</td>\n",
       "      <td>0.000160</td>\n",
       "      <td>0.000047</td>\n",
       "      <td>0.000160</td>\n",
       "    </tr>\n",
       "    <tr>\n",
       "      <th>8</th>\n",
       "      <td>train_auc</td>\n",
       "      <td>3213</td>\n",
       "      <td>0.064706</td>\n",
       "      <td>0.998694</td>\n",
       "      <td>0.742718</td>\n",
       "      <td>0.022084</td>\n",
       "      <td>-0.521726</td>\n",
       "      <td>0.202894</td>\n",
       "      <td>0.749796</td>\n",
       "      <td>0.643136</td>\n",
       "      <td>0.749796</td>\n",
       "    </tr>\n",
       "    <tr>\n",
       "      <th>9</th>\n",
       "      <td>train_recall_at_10</td>\n",
       "      <td>3213</td>\n",
       "      <td>0.000000</td>\n",
       "      <td>0.500000</td>\n",
       "      <td>0.002012</td>\n",
       "      <td>0.000683</td>\n",
       "      <td>16.811543</td>\n",
       "      <td>301.458476</td>\n",
       "      <td>0.000000</td>\n",
       "      <td>0.000000</td>\n",
       "      <td>0.000000</td>\n",
       "    </tr>\n",
       "    <tr>\n",
       "      <th>10</th>\n",
       "      <td>train_recall_at_20</td>\n",
       "      <td>3213</td>\n",
       "      <td>0.000000</td>\n",
       "      <td>0.500000</td>\n",
       "      <td>0.003310</td>\n",
       "      <td>0.001017</td>\n",
       "      <td>13.347294</td>\n",
       "      <td>192.924547</td>\n",
       "      <td>0.000000</td>\n",
       "      <td>0.000000</td>\n",
       "      <td>0.000000</td>\n",
       "    </tr>\n",
       "    <tr>\n",
       "      <th>11</th>\n",
       "      <td>train_recall_at_50</td>\n",
       "      <td>3213</td>\n",
       "      <td>0.000000</td>\n",
       "      <td>0.500000</td>\n",
       "      <td>0.008543</td>\n",
       "      <td>0.002727</td>\n",
       "      <td>7.734584</td>\n",
       "      <td>63.308097</td>\n",
       "      <td>0.000000</td>\n",
       "      <td>0.000000</td>\n",
       "      <td>0.000000</td>\n",
       "    </tr>\n",
       "    <tr>\n",
       "      <th>12</th>\n",
       "      <td>train_precision_at_10</td>\n",
       "      <td>3213</td>\n",
       "      <td>0.000000</td>\n",
       "      <td>0.600000</td>\n",
       "      <td>0.003050</td>\n",
       "      <td>0.000613</td>\n",
       "      <td>13.075556</td>\n",
       "      <td>228.544343</td>\n",
       "      <td>0.000000</td>\n",
       "      <td>0.000000</td>\n",
       "      <td>0.000000</td>\n",
       "    </tr>\n",
       "    <tr>\n",
       "      <th>13</th>\n",
       "      <td>train_precision_at_20</td>\n",
       "      <td>3213</td>\n",
       "      <td>0.000000</td>\n",
       "      <td>0.400000</td>\n",
       "      <td>0.002941</td>\n",
       "      <td>0.000369</td>\n",
       "      <td>11.949587</td>\n",
       "      <td>192.377617</td>\n",
       "      <td>0.000000</td>\n",
       "      <td>0.000000</td>\n",
       "      <td>0.000000</td>\n",
       "    </tr>\n",
       "    <tr>\n",
       "      <th>14</th>\n",
       "      <td>train_precision_at_50</td>\n",
       "      <td>3213</td>\n",
       "      <td>0.000000</td>\n",
       "      <td>0.440000</td>\n",
       "      <td>0.002639</td>\n",
       "      <td>0.000257</td>\n",
       "      <td>14.261587</td>\n",
       "      <td>283.958142</td>\n",
       "      <td>0.000000</td>\n",
       "      <td>0.000000</td>\n",
       "      <td>0.000000</td>\n",
       "    </tr>\n",
       "    <tr>\n",
       "      <th>15</th>\n",
       "      <td>train_reciprocal_rank</td>\n",
       "      <td>3213</td>\n",
       "      <td>0.000015</td>\n",
       "      <td>1.000000</td>\n",
       "      <td>0.012005</td>\n",
       "      <td>0.005092</td>\n",
       "      <td>11.262068</td>\n",
       "      <td>142.400135</td>\n",
       "      <td>0.000667</td>\n",
       "      <td>0.000197</td>\n",
       "      <td>0.000667</td>\n",
       "    </tr>\n",
       "  </tbody>\n",
       "</table>\n",
       "</div>"
      ],
      "text/plain": [
       "                   metric  number_observations       min       max      mean  \\\n",
       "0                test_auc                  615  0.003054  0.999724  0.676032   \n",
       "1       test_recall_at_10                  615  0.000000  0.066667  0.000400   \n",
       "2       test_recall_at_20                  615  0.000000  0.200000  0.001080   \n",
       "3       test_recall_at_50                  615  0.000000  1.000000  0.006327   \n",
       "4    test_precision_at_10                  615  0.000000  0.400000  0.001951   \n",
       "5    test_precision_at_20                  615  0.000000  0.350000  0.001951   \n",
       "6    test_precision_at_50                  615  0.000000  0.140000  0.001691   \n",
       "7    test_reciprocal_rank                  615  0.000014  0.500000  0.005401   \n",
       "8               train_auc                 3213  0.064706  0.998694  0.742718   \n",
       "9      train_recall_at_10                 3213  0.000000  0.500000  0.002012   \n",
       "10     train_recall_at_20                 3213  0.000000  0.500000  0.003310   \n",
       "11     train_recall_at_50                 3213  0.000000  0.500000  0.008543   \n",
       "12  train_precision_at_10                 3213  0.000000  0.600000  0.003050   \n",
       "13  train_precision_at_20                 3213  0.000000  0.400000  0.002941   \n",
       "14  train_precision_at_50                 3213  0.000000  0.440000  0.002639   \n",
       "15  train_reciprocal_rank                 3213  0.000015  1.000000  0.012005   \n",
       "\n",
       "    variance   skewness    kurtosis    median  25th percentile  \\\n",
       "0   0.055808  -0.739972   -0.007057  0.711047         0.535540   \n",
       "1   0.000018  12.587138  169.126522  0.000000         0.000000   \n",
       "2   0.000106  14.142572  239.735544  0.000000         0.000000   \n",
       "3   0.002859  13.575886  217.605567  0.000000         0.000000   \n",
       "4   0.000420  14.503047  248.946871  0.000000         0.000000   \n",
       "5   0.000338  14.224979  235.837303  0.000000         0.000000   \n",
       "6   0.000104   9.140030  100.182050  0.000000         0.000000   \n",
       "7   0.001104  11.967932  164.278840  0.000160         0.000047   \n",
       "8   0.022084  -0.521726    0.202894  0.749796         0.643136   \n",
       "9   0.000683  16.811543  301.458476  0.000000         0.000000   \n",
       "10  0.001017  13.347294  192.924547  0.000000         0.000000   \n",
       "11  0.002727   7.734584   63.308097  0.000000         0.000000   \n",
       "12  0.000613  13.075556  228.544343  0.000000         0.000000   \n",
       "13  0.000369  11.949587  192.377617  0.000000         0.000000   \n",
       "14  0.000257  14.261587  283.958142  0.000000         0.000000   \n",
       "15  0.005092  11.262068  142.400135  0.000667         0.000197   \n",
       "\n",
       "    75th percentile  \n",
       "0          0.711047  \n",
       "1          0.000000  \n",
       "2          0.000000  \n",
       "3          0.000000  \n",
       "4          0.000000  \n",
       "5          0.000000  \n",
       "6          0.000000  \n",
       "7          0.000160  \n",
       "8          0.749796  \n",
       "9          0.000000  \n",
       "10         0.000000  \n",
       "11         0.000000  \n",
       "12         0.000000  \n",
       "13         0.000000  \n",
       "14         0.000000  \n",
       "15         0.000667  "
      ]
     },
     "execution_count": 33,
     "metadata": {},
     "output_type": "execute_result"
    }
   ],
   "source": [
    "eval_baseline_summary_df"
   ]
  },
  {
   "cell_type": "code",
   "execution_count": 34,
   "metadata": {},
   "outputs": [
    {
     "data": {
      "text/html": [
       "<div>\n",
       "<style scoped>\n",
       "    .dataframe tbody tr th:only-of-type {\n",
       "        vertical-align: middle;\n",
       "    }\n",
       "\n",
       "    .dataframe tbody tr th {\n",
       "        vertical-align: top;\n",
       "    }\n",
       "\n",
       "    .dataframe thead th {\n",
       "        text-align: right;\n",
       "    }\n",
       "</style>\n",
       "<table border=\"1\" class=\"dataframe\">\n",
       "  <thead>\n",
       "    <tr style=\"text-align: right;\">\n",
       "      <th></th>\n",
       "      <th>metric</th>\n",
       "      <th>number_observations</th>\n",
       "      <th>min</th>\n",
       "      <th>max</th>\n",
       "      <th>mean</th>\n",
       "      <th>variance</th>\n",
       "      <th>skewness</th>\n",
       "      <th>kurtosis</th>\n",
       "      <th>median</th>\n",
       "      <th>25th percentile</th>\n",
       "      <th>75th percentile</th>\n",
       "    </tr>\n",
       "  </thead>\n",
       "  <tbody>\n",
       "    <tr>\n",
       "      <th>0</th>\n",
       "      <td>test_auc</td>\n",
       "      <td>615</td>\n",
       "      <td>0.036321</td>\n",
       "      <td>0.999972</td>\n",
       "      <td>0.765974</td>\n",
       "      <td>0.048936</td>\n",
       "      <td>-1.176507</td>\n",
       "      <td>0.924472</td>\n",
       "      <td>0.835374</td>\n",
       "      <td>0.641667</td>\n",
       "      <td>0.835374</td>\n",
       "    </tr>\n",
       "    <tr>\n",
       "      <th>1</th>\n",
       "      <td>test_recall_at_10</td>\n",
       "      <td>615</td>\n",
       "      <td>0.000000</td>\n",
       "      <td>1.000000</td>\n",
       "      <td>0.006023</td>\n",
       "      <td>0.003892</td>\n",
       "      <td>14.152492</td>\n",
       "      <td>214.124724</td>\n",
       "      <td>0.000000</td>\n",
       "      <td>0.000000</td>\n",
       "      <td>0.000000</td>\n",
       "    </tr>\n",
       "    <tr>\n",
       "      <th>2</th>\n",
       "      <td>test_recall_at_20</td>\n",
       "      <td>615</td>\n",
       "      <td>0.000000</td>\n",
       "      <td>1.000000</td>\n",
       "      <td>0.010895</td>\n",
       "      <td>0.006281</td>\n",
       "      <td>10.491609</td>\n",
       "      <td>121.013623</td>\n",
       "      <td>0.000000</td>\n",
       "      <td>0.000000</td>\n",
       "      <td>0.000000</td>\n",
       "    </tr>\n",
       "    <tr>\n",
       "      <th>3</th>\n",
       "      <td>test_recall_at_50</td>\n",
       "      <td>615</td>\n",
       "      <td>0.000000</td>\n",
       "      <td>1.000000</td>\n",
       "      <td>0.021260</td>\n",
       "      <td>0.011759</td>\n",
       "      <td>7.105824</td>\n",
       "      <td>55.794976</td>\n",
       "      <td>0.000000</td>\n",
       "      <td>0.000000</td>\n",
       "      <td>0.000000</td>\n",
       "    </tr>\n",
       "    <tr>\n",
       "      <th>4</th>\n",
       "      <td>test_precision_at_10</td>\n",
       "      <td>615</td>\n",
       "      <td>0.000000</td>\n",
       "      <td>0.400000</td>\n",
       "      <td>0.004065</td>\n",
       "      <td>0.000781</td>\n",
       "      <td>9.035782</td>\n",
       "      <td>97.654405</td>\n",
       "      <td>0.000000</td>\n",
       "      <td>0.000000</td>\n",
       "      <td>0.000000</td>\n",
       "    </tr>\n",
       "    <tr>\n",
       "      <th>5</th>\n",
       "      <td>test_precision_at_20</td>\n",
       "      <td>615</td>\n",
       "      <td>0.000000</td>\n",
       "      <td>0.450000</td>\n",
       "      <td>0.004146</td>\n",
       "      <td>0.000663</td>\n",
       "      <td>11.298878</td>\n",
       "      <td>165.021750</td>\n",
       "      <td>0.000000</td>\n",
       "      <td>0.000000</td>\n",
       "      <td>0.000000</td>\n",
       "    </tr>\n",
       "    <tr>\n",
       "      <th>6</th>\n",
       "      <td>test_precision_at_50</td>\n",
       "      <td>615</td>\n",
       "      <td>0.000000</td>\n",
       "      <td>0.220000</td>\n",
       "      <td>0.003187</td>\n",
       "      <td>0.000227</td>\n",
       "      <td>8.515950</td>\n",
       "      <td>93.514220</td>\n",
       "      <td>0.000000</td>\n",
       "      <td>0.000000</td>\n",
       "      <td>0.000000</td>\n",
       "    </tr>\n",
       "    <tr>\n",
       "      <th>7</th>\n",
       "      <td>test_reciprocal_rank</td>\n",
       "      <td>615</td>\n",
       "      <td>0.000014</td>\n",
       "      <td>1.000000</td>\n",
       "      <td>0.016097</td>\n",
       "      <td>0.008051</td>\n",
       "      <td>9.351852</td>\n",
       "      <td>94.821940</td>\n",
       "      <td>0.000393</td>\n",
       "      <td>0.000095</td>\n",
       "      <td>0.000393</td>\n",
       "    </tr>\n",
       "    <tr>\n",
       "      <th>8</th>\n",
       "      <td>train_auc</td>\n",
       "      <td>3213</td>\n",
       "      <td>0.702158</td>\n",
       "      <td>0.999910</td>\n",
       "      <td>0.939125</td>\n",
       "      <td>0.003529</td>\n",
       "      <td>-1.201251</td>\n",
       "      <td>0.863961</td>\n",
       "      <td>0.959141</td>\n",
       "      <td>0.906653</td>\n",
       "      <td>0.959141</td>\n",
       "    </tr>\n",
       "    <tr>\n",
       "      <th>9</th>\n",
       "      <td>train_recall_at_10</td>\n",
       "      <td>3213</td>\n",
       "      <td>0.000000</td>\n",
       "      <td>1.000000</td>\n",
       "      <td>0.009396</td>\n",
       "      <td>0.003519</td>\n",
       "      <td>8.157085</td>\n",
       "      <td>75.351889</td>\n",
       "      <td>0.000000</td>\n",
       "      <td>0.000000</td>\n",
       "      <td>0.000000</td>\n",
       "    </tr>\n",
       "    <tr>\n",
       "      <th>10</th>\n",
       "      <td>train_recall_at_20</td>\n",
       "      <td>3213</td>\n",
       "      <td>0.000000</td>\n",
       "      <td>1.000000</td>\n",
       "      <td>0.020360</td>\n",
       "      <td>0.008136</td>\n",
       "      <td>5.715371</td>\n",
       "      <td>37.889211</td>\n",
       "      <td>0.000000</td>\n",
       "      <td>0.000000</td>\n",
       "      <td>0.000000</td>\n",
       "    </tr>\n",
       "    <tr>\n",
       "      <th>11</th>\n",
       "      <td>train_recall_at_50</td>\n",
       "      <td>3213</td>\n",
       "      <td>0.000000</td>\n",
       "      <td>1.000000</td>\n",
       "      <td>0.055100</td>\n",
       "      <td>0.023788</td>\n",
       "      <td>3.562808</td>\n",
       "      <td>14.189486</td>\n",
       "      <td>0.000000</td>\n",
       "      <td>0.000000</td>\n",
       "      <td>0.000000</td>\n",
       "    </tr>\n",
       "    <tr>\n",
       "      <th>12</th>\n",
       "      <td>train_precision_at_10</td>\n",
       "      <td>3213</td>\n",
       "      <td>0.000000</td>\n",
       "      <td>0.800000</td>\n",
       "      <td>0.009337</td>\n",
       "      <td>0.001974</td>\n",
       "      <td>8.244364</td>\n",
       "      <td>97.636136</td>\n",
       "      <td>0.000000</td>\n",
       "      <td>0.000000</td>\n",
       "      <td>0.000000</td>\n",
       "    </tr>\n",
       "    <tr>\n",
       "      <th>13</th>\n",
       "      <td>train_precision_at_20</td>\n",
       "      <td>3213</td>\n",
       "      <td>0.000000</td>\n",
       "      <td>0.700000</td>\n",
       "      <td>0.009135</td>\n",
       "      <td>0.001409</td>\n",
       "      <td>8.615218</td>\n",
       "      <td>107.017100</td>\n",
       "      <td>0.000000</td>\n",
       "      <td>0.000000</td>\n",
       "      <td>0.000000</td>\n",
       "    </tr>\n",
       "    <tr>\n",
       "      <th>14</th>\n",
       "      <td>train_precision_at_50</td>\n",
       "      <td>3213</td>\n",
       "      <td>0.000000</td>\n",
       "      <td>0.480000</td>\n",
       "      <td>0.008609</td>\n",
       "      <td>0.000843</td>\n",
       "      <td>8.592363</td>\n",
       "      <td>102.236708</td>\n",
       "      <td>0.000000</td>\n",
       "      <td>0.000000</td>\n",
       "      <td>0.000000</td>\n",
       "    </tr>\n",
       "    <tr>\n",
       "      <th>15</th>\n",
       "      <td>train_reciprocal_rank</td>\n",
       "      <td>3213</td>\n",
       "      <td>0.000170</td>\n",
       "      <td>1.000000</td>\n",
       "      <td>0.032187</td>\n",
       "      <td>0.011904</td>\n",
       "      <td>6.939713</td>\n",
       "      <td>54.279760</td>\n",
       "      <td>0.005376</td>\n",
       "      <td>0.002155</td>\n",
       "      <td>0.005376</td>\n",
       "    </tr>\n",
       "  </tbody>\n",
       "</table>\n",
       "</div>"
      ],
      "text/plain": [
       "                   metric  number_observations       min       max      mean  \\\n",
       "0                test_auc                  615  0.036321  0.999972  0.765974   \n",
       "1       test_recall_at_10                  615  0.000000  1.000000  0.006023   \n",
       "2       test_recall_at_20                  615  0.000000  1.000000  0.010895   \n",
       "3       test_recall_at_50                  615  0.000000  1.000000  0.021260   \n",
       "4    test_precision_at_10                  615  0.000000  0.400000  0.004065   \n",
       "5    test_precision_at_20                  615  0.000000  0.450000  0.004146   \n",
       "6    test_precision_at_50                  615  0.000000  0.220000  0.003187   \n",
       "7    test_reciprocal_rank                  615  0.000014  1.000000  0.016097   \n",
       "8               train_auc                 3213  0.702158  0.999910  0.939125   \n",
       "9      train_recall_at_10                 3213  0.000000  1.000000  0.009396   \n",
       "10     train_recall_at_20                 3213  0.000000  1.000000  0.020360   \n",
       "11     train_recall_at_50                 3213  0.000000  1.000000  0.055100   \n",
       "12  train_precision_at_10                 3213  0.000000  0.800000  0.009337   \n",
       "13  train_precision_at_20                 3213  0.000000  0.700000  0.009135   \n",
       "14  train_precision_at_50                 3213  0.000000  0.480000  0.008609   \n",
       "15  train_reciprocal_rank                 3213  0.000170  1.000000  0.032187   \n",
       "\n",
       "    variance   skewness    kurtosis    median  25th percentile  \\\n",
       "0   0.048936  -1.176507    0.924472  0.835374         0.641667   \n",
       "1   0.003892  14.152492  214.124724  0.000000         0.000000   \n",
       "2   0.006281  10.491609  121.013623  0.000000         0.000000   \n",
       "3   0.011759   7.105824   55.794976  0.000000         0.000000   \n",
       "4   0.000781   9.035782   97.654405  0.000000         0.000000   \n",
       "5   0.000663  11.298878  165.021750  0.000000         0.000000   \n",
       "6   0.000227   8.515950   93.514220  0.000000         0.000000   \n",
       "7   0.008051   9.351852   94.821940  0.000393         0.000095   \n",
       "8   0.003529  -1.201251    0.863961  0.959141         0.906653   \n",
       "9   0.003519   8.157085   75.351889  0.000000         0.000000   \n",
       "10  0.008136   5.715371   37.889211  0.000000         0.000000   \n",
       "11  0.023788   3.562808   14.189486  0.000000         0.000000   \n",
       "12  0.001974   8.244364   97.636136  0.000000         0.000000   \n",
       "13  0.001409   8.615218  107.017100  0.000000         0.000000   \n",
       "14  0.000843   8.592363  102.236708  0.000000         0.000000   \n",
       "15  0.011904   6.939713   54.279760  0.005376         0.002155   \n",
       "\n",
       "    75th percentile  \n",
       "0          0.835374  \n",
       "1          0.000000  \n",
       "2          0.000000  \n",
       "3          0.000000  \n",
       "4          0.000000  \n",
       "5          0.000000  \n",
       "6          0.000000  \n",
       "7          0.000393  \n",
       "8          0.959141  \n",
       "9          0.000000  \n",
       "10         0.000000  \n",
       "11         0.000000  \n",
       "12         0.000000  \n",
       "13         0.000000  \n",
       "14         0.000000  \n",
       "15         0.005376  "
      ]
     },
     "execution_count": 34,
     "metadata": {},
     "output_type": "execute_result"
    }
   ],
   "source": [
    "eval_summary_df"
   ]
  },
  {
   "cell_type": "markdown",
   "metadata": {},
   "source": [
    "We can visualize the distribution of AUC scores across all the users in the test set for the out of the box hybrid model and the optimized model. This can be useful for understanding how well the model is performing across the entire test population.  The model doesn't produce an interpretable score like a traditional classifier (the score produced by the hybrid model is just a rank order score for the recommendations, it has no other interpretation and in particular is not really sensible to point compare across different user/item recommendations). In this sense, looking at the AUC distribution is kind of a proxy for looking at the score distribution of a traditional classifier"
   ]
  },
  {
   "cell_type": "code",
   "execution_count": 35,
   "metadata": {},
   "outputs": [
    {
     "data": {
      "image/png": "[encoded data removed]",
      "text/plain": [
       "<Figure size 1440x720 with 1 Axes>"
      ]
     },
     "metadata": {},
     "output_type": "display_data"
    }
   ],
   "source": [
    "recommender_utils.plot_metric_dist(eval_dict=eval_results_baseline_dict, \n",
    "                                   metric='auc', \n",
    "                                   data_split='test', \n",
    "                                   title='Test set AUC distribution baseline model', \n",
    "                                   axis_fontsize=20, \n",
    "                                   title_fontsize=20)"
   ]
  },
  {
   "cell_type": "code",
   "execution_count": 36,
   "metadata": {},
   "outputs": [
    {
     "data": {
      "image/png": "[encoded data removed]",
      "text/plain": [
       "<Figure size 1440x720 with 1 Axes>"
      ]
     },
     "metadata": {},
     "output_type": "display_data"
    }
   ],
   "source": [
    "recommender_utils.plot_metric_dist(eval_dict=eval_results_dict, \n",
    "                                   metric='auc', \n",
    "                                   data_split='test', \n",
    "                                   title='Test set AUC distribution hyperopt model', \n",
    "                                   axis_fontsize=20, \n",
    "                                   title_fontsize=20)"
   ]
  },
  {
   "cell_type": "markdown",
   "metadata": {},
   "source": [
    "Notice that while we are able to tune pretty much every aspect of the recommender model, the full modeling process itself still has a parameter, namely the number of evaluations to conduct for the SMBO step.  How do we know if we've used enough?  This is a common problem in a lot of machine learning optimization problems, espcially when fitting certain neural networks or gradient boosting models (e.g. what is the correct number of weak estimators to evaluate? i.e. how many rounds of boosting do we need to do not to memorize the training set?).  We've taken care of the analgous problem within the model by estimating the best number of epochs to use so as not to memorize the training set.  We can achieve this with early stopping"
   ]
  },
  {
   "cell_type": "code",
   "execution_count": 54,
   "metadata": {},
   "outputs": [
    {
     "name": "stdout",
     "output_type": "stream",
     "text": [
      "Running hyperopt hyperparameter search\n",
      "Running in cross validation mode for 3 folds\n",
      "Running for 30 evaluations with early stopping checks every 2 evaluations\n",
      "completed fold: 1\n",
      "completed fold: 2\n",
      "completed fold: 3\n",
      "completed all folds in current iteration, starting next iteration\n",
      "completed fold: 1\n",
      "completed fold: 2\n",
      "completed fold: 3\n",
      "completed all folds in current iteration, starting next iteration\n",
      "100%|██████████| 2/2 [02:48<00:00, 84.29s/it, best loss: -0.7191823124885559]\n",
      "Loss has improved. Continuing with search\n",
      "completed fold: 1\n",
      "completed fold: 2\n",
      "completed fold: 3\n",
      "completed all folds in current iteration, starting next iteration\n",
      "completed fold: 1\n",
      "completed fold: 2\n",
      "completed fold: 3\n",
      "completed all folds in current iteration, starting next iteration\n",
      "100%|██████████| 2/2 [02:46<00:00, 84.58s/it, best loss: -0.7191823124885559]\n",
      "No loss improvement after 2 evaluations. This has triggered the early stopping criterion.\n"
     ]
    }
   ],
   "source": [
    "# Run with 3 fold cross validation. Let's see if we can force it to stop after 2 evaluations. Don't run with cv for this test. We'll try that after. We'll be \n",
    "# aggressive with this and stop if nothing has improved after 2 rounds.\n",
    "best_early, trials_early = lightfm_hyperopt.fit_model_early_stopping(interactions=train, \n",
    "                                                                     hyperparams_dict=hyperparams_dict, \n",
    "                                                                     fit_params_dict=fit_params_dict, \n",
    "                                                                     test_percentage=0.2, \n",
    "                                                                     item_features=item_features, \n",
    "                                                                     cv=3, \n",
    "                                                                     max_evals=30,\n",
    "                                                                     early_stop_evals=2,\n",
    "                                                                     eval_metric='auc_score',\n",
    "                                                                     verbose=0)"
   ]
  },
  {
   "cell_type": "code",
   "execution_count": 55,
   "metadata": {},
   "outputs": [],
   "source": [
    "best_params_early = lightfm_hyperopt.get_best_hyperparams(hyperparams_dict=hyperparams_dict, \n",
    "                                                          fit_params_dict=fit_params_dict, \n",
    "                                                          best=best_early)"
   ]
  },
  {
   "cell_type": "code",
   "execution_count": 56,
   "metadata": {},
   "outputs": [
    {
     "data": {
      "text/plain": [
       "{'item_alpha': 2.9101269837913215e-06,\n",
       " 'learning_rate': 0.038614965816600955,\n",
       " 'learning_schedule': 'adagrad',\n",
       " 'loss': 'warp',\n",
       " 'no_components': 75,\n",
       " 'num_epochs': 42}"
      ]
     },
     "execution_count": 56,
     "metadata": {},
     "output_type": "execute_result"
    }
   ],
   "source": [
    "best_params_early"
   ]
  },
  {
   "cell_type": "code",
   "execution_count": 58,
   "metadata": {},
   "outputs": [],
   "source": [
    "# compare with what we found originally\n",
    "# {'item_alpha': 1.190990781508593e-06,\n",
    "#  'learning_rate': 0.021908539753897442,\n",
    "#  'learning_schedule': 'adagrad',\n",
    "#  'loss': 'warp',\n",
    "#  'no_components': 43,\n",
    "#  'num_epochs': 46}"
   ]
  },
  {
   "cell_type": "code",
   "execution_count": 59,
   "metadata": {},
   "outputs": [],
   "source": [
    "# Remove num_epochs since this is a fit parameter.  \n",
    "num_epochs = best_params_early.pop('num_epochs')"
   ]
  },
  {
   "cell_type": "code",
   "execution_count": 60,
   "metadata": {},
   "outputs": [
    {
     "name": "stdout",
     "output_type": "stream",
     "text": [
      "Fitting model in cross validation mode for 5 folds\n",
      "Completed fold: 1\n",
      "Fold 1 loss: 0.7266136407852173\n",
      "Completed fold: 2\n",
      "Fold 2 loss: 0.7152751088142395\n",
      "Completed fold: 3\n",
      "Fold 3 loss: 0.7155190706253052\n",
      "Completed fold: 4\n",
      "Fold 4 loss: 0.7221102714538574\n",
      "Completed fold: 5\n",
      "Fold 5 loss: 0.724374532699585\n",
      "Cross validation complete.\n",
      "Refitting model to all provided training data\n"
     ]
    }
   ],
   "source": [
    "# Re-train model with 5 fold cross validation on all available training data. This let's you do what is essentially nested\n",
    "# cross validation.\n",
    "model_train_early, cv_scores_early = lightfm_hyperopt.fit_cv(params=best_params_early, \n",
    "                                                             interactions=train, \n",
    "                                                             eval_metric='auc_score', \n",
    "                                                             num_epochs=num_epochs, \n",
    "                                                             num_threads=1, \n",
    "                                                             test_percentage=0.2, \n",
    "                                                             item_features=item_features, \n",
    "                                                             cv=5, \n",
    "                                                             seed=0, \n",
    "                                                             refit=True,\n",
    "                                                             verbose=0)"
   ]
  },
  {
   "cell_type": "code",
   "execution_count": 61,
   "metadata": {},
   "outputs": [
    {
     "name": "stdout",
     "output_type": "stream",
     "text": [
      "Hybrid hyperopt with early stopping training set AUC: 0.9815369\n"
     ]
    }
   ],
   "source": [
    "# Train auc\n",
    "train_auc_hyperopt_early = auc_score(model_train_early,\n",
    "                                     train,\n",
    "                                     item_features=item_features,\n",
    "                                     num_threads=NUM_THREADS).mean()\n",
    "print('Hybrid hyperopt with early stopping training set AUC: %s' % train_auc_hyperopt_early)"
   ]
  },
  {
   "cell_type": "code",
   "execution_count": 62,
   "metadata": {},
   "outputs": [
    {
     "name": "stdout",
     "output_type": "stream",
     "text": [
      "Hybrid hyperopt with early stopping test set AUC: 0.7426075\n"
     ]
    }
   ],
   "source": [
    "# Test auc\n",
    "test_auc_hyperopt_early = auc_score(model_train_early,\n",
    "                                    test,\n",
    "                                    item_features=item_features,\n",
    "                                    num_threads=NUM_THREADS,\n",
    "                                    check_intersections=True).mean()\n",
    "print('Hybrid hyperopt with early stopping test set AUC: %s' % test_auc_hyperopt_early)"
   ]
  },
  {
   "cell_type": "code",
   "execution_count": 63,
   "metadata": {},
   "outputs": [
    {
     "name": "stdout",
     "output_type": "stream",
     "text": [
      "Computing test set AUCs\n",
      "Computing test set recalls at 10\n",
      "Computing test set recalls at 20\n",
      "Computing test set recalls at 50\n",
      "Computing test set precisions at 10\n",
      "Computing test set precisions at 20\n",
      "Computing test set precisions at 50\n",
      "Computing test set reciprocal rank\n",
      "Computing metrics on training set as well\n",
      "Computing train set AUCs\n",
      "Computing train set recalls at 10\n",
      "Computing train set recalls at 20\n",
      "Computing train set recalls at 50\n",
      "Computing train set precisions at 10\n",
      "Computing train set precisions at 20\n",
      "Computing train set precisions at 50\n",
      "Computing train set reciprocal rank\n"
     ]
    }
   ],
   "source": [
    "# This already does quite well on the test set.  Let's look at the eval summary and the distribution of scores\n",
    "# The recommender_utils module has a bunch of helper functions for computing evaluation metrics.\n",
    "eval_results_early_stopping_dict = recommender_utils.compute_eval_metrics(model=model_train_early, \n",
    "                                                                          train_interactions=train, \n",
    "                                                                          test_interactions=test, \n",
    "                                                                          item_features=item_features, \n",
    "                                                                          compute_on_train=True,\n",
    "                                                                          preserve_rows=False,\n",
    "                                                                          check_intersections=True)"
   ]
  },
  {
   "cell_type": "code",
   "execution_count": 64,
   "metadata": {},
   "outputs": [],
   "source": [
    "eval_early_stopping_summary_df = recommender_utils.compute_eval_metric_summaries(eval_dict=eval_results_early_stopping_dict)"
   ]
  },
  {
   "cell_type": "code",
   "execution_count": 65,
   "metadata": {},
   "outputs": [
    {
     "data": {
      "text/html": [
       "<div>\n",
       "<style scoped>\n",
       "    .dataframe tbody tr th:only-of-type {\n",
       "        vertical-align: middle;\n",
       "    }\n",
       "\n",
       "    .dataframe tbody tr th {\n",
       "        vertical-align: top;\n",
       "    }\n",
       "\n",
       "    .dataframe thead th {\n",
       "        text-align: right;\n",
       "    }\n",
       "</style>\n",
       "<table border=\"1\" class=\"dataframe\">\n",
       "  <thead>\n",
       "    <tr style=\"text-align: right;\">\n",
       "      <th></th>\n",
       "      <th>metric</th>\n",
       "      <th>number_observations</th>\n",
       "      <th>min</th>\n",
       "      <th>max</th>\n",
       "      <th>mean</th>\n",
       "      <th>variance</th>\n",
       "      <th>skewness</th>\n",
       "      <th>kurtosis</th>\n",
       "      <th>median</th>\n",
       "      <th>25th percentile</th>\n",
       "      <th>75th percentile</th>\n",
       "    </tr>\n",
       "  </thead>\n",
       "  <tbody>\n",
       "    <tr>\n",
       "      <th>0</th>\n",
       "      <td>test_auc</td>\n",
       "      <td>615</td>\n",
       "      <td>0.011941</td>\n",
       "      <td>0.999986</td>\n",
       "      <td>0.742952</td>\n",
       "      <td>0.054022</td>\n",
       "      <td>-1.003270</td>\n",
       "      <td>0.479158</td>\n",
       "      <td>0.784412</td>\n",
       "      <td>0.614177</td>\n",
       "      <td>0.784412</td>\n",
       "    </tr>\n",
       "    <tr>\n",
       "      <th>1</th>\n",
       "      <td>test_recall_at_10</td>\n",
       "      <td>615</td>\n",
       "      <td>0.000000</td>\n",
       "      <td>1.000000</td>\n",
       "      <td>0.014494</td>\n",
       "      <td>0.010519</td>\n",
       "      <td>8.425368</td>\n",
       "      <td>73.507311</td>\n",
       "      <td>0.000000</td>\n",
       "      <td>0.000000</td>\n",
       "      <td>0.000000</td>\n",
       "    </tr>\n",
       "    <tr>\n",
       "      <th>2</th>\n",
       "      <td>test_recall_at_20</td>\n",
       "      <td>615</td>\n",
       "      <td>0.000000</td>\n",
       "      <td>1.000000</td>\n",
       "      <td>0.021396</td>\n",
       "      <td>0.013666</td>\n",
       "      <td>6.897212</td>\n",
       "      <td>50.474708</td>\n",
       "      <td>0.000000</td>\n",
       "      <td>0.000000</td>\n",
       "      <td>0.000000</td>\n",
       "    </tr>\n",
       "    <tr>\n",
       "      <th>3</th>\n",
       "      <td>test_recall_at_50</td>\n",
       "      <td>615</td>\n",
       "      <td>0.000000</td>\n",
       "      <td>1.000000</td>\n",
       "      <td>0.034205</td>\n",
       "      <td>0.021692</td>\n",
       "      <td>5.369536</td>\n",
       "      <td>29.907485</td>\n",
       "      <td>0.000000</td>\n",
       "      <td>0.000000</td>\n",
       "      <td>0.000000</td>\n",
       "    </tr>\n",
       "    <tr>\n",
       "      <th>4</th>\n",
       "      <td>test_precision_at_10</td>\n",
       "      <td>615</td>\n",
       "      <td>0.000000</td>\n",
       "      <td>0.500000</td>\n",
       "      <td>0.005691</td>\n",
       "      <td>0.001026</td>\n",
       "      <td>8.931545</td>\n",
       "      <td>108.344348</td>\n",
       "      <td>0.000000</td>\n",
       "      <td>0.000000</td>\n",
       "      <td>0.000000</td>\n",
       "    </tr>\n",
       "    <tr>\n",
       "      <th>5</th>\n",
       "      <td>test_precision_at_20</td>\n",
       "      <td>615</td>\n",
       "      <td>0.000000</td>\n",
       "      <td>0.450000</td>\n",
       "      <td>0.005366</td>\n",
       "      <td>0.000794</td>\n",
       "      <td>9.810047</td>\n",
       "      <td>125.630179</td>\n",
       "      <td>0.000000</td>\n",
       "      <td>0.000000</td>\n",
       "      <td>0.000000</td>\n",
       "    </tr>\n",
       "    <tr>\n",
       "      <th>6</th>\n",
       "      <td>test_precision_at_50</td>\n",
       "      <td>615</td>\n",
       "      <td>0.000000</td>\n",
       "      <td>0.240000</td>\n",
       "      <td>0.003902</td>\n",
       "      <td>0.000291</td>\n",
       "      <td>8.193305</td>\n",
       "      <td>86.393774</td>\n",
       "      <td>0.000000</td>\n",
       "      <td>0.000000</td>\n",
       "      <td>0.000000</td>\n",
       "    </tr>\n",
       "    <tr>\n",
       "      <th>7</th>\n",
       "      <td>test_reciprocal_rank</td>\n",
       "      <td>615</td>\n",
       "      <td>0.000014</td>\n",
       "      <td>1.000000</td>\n",
       "      <td>0.019848</td>\n",
       "      <td>0.008821</td>\n",
       "      <td>8.334509</td>\n",
       "      <td>78.415859</td>\n",
       "      <td>0.000431</td>\n",
       "      <td>0.000079</td>\n",
       "      <td>0.000431</td>\n",
       "    </tr>\n",
       "    <tr>\n",
       "      <th>8</th>\n",
       "      <td>train_auc</td>\n",
       "      <td>3213</td>\n",
       "      <td>0.787114</td>\n",
       "      <td>1.000000</td>\n",
       "      <td>0.981537</td>\n",
       "      <td>0.000852</td>\n",
       "      <td>-2.586894</td>\n",
       "      <td>7.614858</td>\n",
       "      <td>0.994174</td>\n",
       "      <td>0.978932</td>\n",
       "      <td>0.994174</td>\n",
       "    </tr>\n",
       "    <tr>\n",
       "      <th>9</th>\n",
       "      <td>train_recall_at_10</td>\n",
       "      <td>3213</td>\n",
       "      <td>0.000000</td>\n",
       "      <td>1.000000</td>\n",
       "      <td>0.052444</td>\n",
       "      <td>0.025725</td>\n",
       "      <td>3.530866</td>\n",
       "      <td>13.255736</td>\n",
       "      <td>0.000000</td>\n",
       "      <td>0.000000</td>\n",
       "      <td>0.000000</td>\n",
       "    </tr>\n",
       "    <tr>\n",
       "      <th>10</th>\n",
       "      <td>train_recall_at_20</td>\n",
       "      <td>3213</td>\n",
       "      <td>0.000000</td>\n",
       "      <td>1.000000</td>\n",
       "      <td>0.099456</td>\n",
       "      <td>0.050077</td>\n",
       "      <td>2.525594</td>\n",
       "      <td>6.024106</td>\n",
       "      <td>0.000000</td>\n",
       "      <td>0.000000</td>\n",
       "      <td>0.000000</td>\n",
       "    </tr>\n",
       "    <tr>\n",
       "      <th>11</th>\n",
       "      <td>train_recall_at_50</td>\n",
       "      <td>3213</td>\n",
       "      <td>0.000000</td>\n",
       "      <td>1.000000</td>\n",
       "      <td>0.201758</td>\n",
       "      <td>0.094825</td>\n",
       "      <td>1.519156</td>\n",
       "      <td>1.172046</td>\n",
       "      <td>0.000000</td>\n",
       "      <td>0.000000</td>\n",
       "      <td>0.000000</td>\n",
       "    </tr>\n",
       "    <tr>\n",
       "      <th>12</th>\n",
       "      <td>train_precision_at_10</td>\n",
       "      <td>3213</td>\n",
       "      <td>0.000000</td>\n",
       "      <td>0.900000</td>\n",
       "      <td>0.022440</td>\n",
       "      <td>0.003702</td>\n",
       "      <td>4.550345</td>\n",
       "      <td>34.070103</td>\n",
       "      <td>0.000000</td>\n",
       "      <td>0.000000</td>\n",
       "      <td>0.000000</td>\n",
       "    </tr>\n",
       "    <tr>\n",
       "      <th>13</th>\n",
       "      <td>train_precision_at_20</td>\n",
       "      <td>3213</td>\n",
       "      <td>0.000000</td>\n",
       "      <td>0.650000</td>\n",
       "      <td>0.020759</td>\n",
       "      <td>0.002109</td>\n",
       "      <td>4.757010</td>\n",
       "      <td>38.332612</td>\n",
       "      <td>0.000000</td>\n",
       "      <td>0.000000</td>\n",
       "      <td>0.000000</td>\n",
       "    </tr>\n",
       "    <tr>\n",
       "      <th>14</th>\n",
       "      <td>train_precision_at_50</td>\n",
       "      <td>3213</td>\n",
       "      <td>0.000000</td>\n",
       "      <td>0.560000</td>\n",
       "      <td>0.018475</td>\n",
       "      <td>0.001206</td>\n",
       "      <td>6.507136</td>\n",
       "      <td>67.473049</td>\n",
       "      <td>0.000000</td>\n",
       "      <td>0.000000</td>\n",
       "      <td>0.000000</td>\n",
       "    </tr>\n",
       "    <tr>\n",
       "      <th>15</th>\n",
       "      <td>train_reciprocal_rank</td>\n",
       "      <td>3213</td>\n",
       "      <td>0.001089</td>\n",
       "      <td>1.000000</td>\n",
       "      <td>0.072987</td>\n",
       "      <td>0.026286</td>\n",
       "      <td>4.327412</td>\n",
       "      <td>20.390689</td>\n",
       "      <td>0.019231</td>\n",
       "      <td>0.008772</td>\n",
       "      <td>0.019231</td>\n",
       "    </tr>\n",
       "  </tbody>\n",
       "</table>\n",
       "</div>"
      ],
      "text/plain": [
       "                   metric  number_observations       min       max      mean  \\\n",
       "0                test_auc                  615  0.011941  0.999986  0.742952   \n",
       "1       test_recall_at_10                  615  0.000000  1.000000  0.014494   \n",
       "2       test_recall_at_20                  615  0.000000  1.000000  0.021396   \n",
       "3       test_recall_at_50                  615  0.000000  1.000000  0.034205   \n",
       "4    test_precision_at_10                  615  0.000000  0.500000  0.005691   \n",
       "5    test_precision_at_20                  615  0.000000  0.450000  0.005366   \n",
       "6    test_precision_at_50                  615  0.000000  0.240000  0.003902   \n",
       "7    test_reciprocal_rank                  615  0.000014  1.000000  0.019848   \n",
       "8               train_auc                 3213  0.787114  1.000000  0.981537   \n",
       "9      train_recall_at_10                 3213  0.000000  1.000000  0.052444   \n",
       "10     train_recall_at_20                 3213  0.000000  1.000000  0.099456   \n",
       "11     train_recall_at_50                 3213  0.000000  1.000000  0.201758   \n",
       "12  train_precision_at_10                 3213  0.000000  0.900000  0.022440   \n",
       "13  train_precision_at_20                 3213  0.000000  0.650000  0.020759   \n",
       "14  train_precision_at_50                 3213  0.000000  0.560000  0.018475   \n",
       "15  train_reciprocal_rank                 3213  0.001089  1.000000  0.072987   \n",
       "\n",
       "    variance  skewness    kurtosis    median  25th percentile  75th percentile  \n",
       "0   0.054022 -1.003270    0.479158  0.784412         0.614177         0.784412  \n",
       "1   0.010519  8.425368   73.507311  0.000000         0.000000         0.000000  \n",
       "2   0.013666  6.897212   50.474708  0.000000         0.000000         0.000000  \n",
       "3   0.021692  5.369536   29.907485  0.000000         0.000000         0.000000  \n",
       "4   0.001026  8.931545  108.344348  0.000000         0.000000         0.000000  \n",
       "5   0.000794  9.810047  125.630179  0.000000         0.000000         0.000000  \n",
       "6   0.000291  8.193305   86.393774  0.000000         0.000000         0.000000  \n",
       "7   0.008821  8.334509   78.415859  0.000431         0.000079         0.000431  \n",
       "8   0.000852 -2.586894    7.614858  0.994174         0.978932         0.994174  \n",
       "9   0.025725  3.530866   13.255736  0.000000         0.000000         0.000000  \n",
       "10  0.050077  2.525594    6.024106  0.000000         0.000000         0.000000  \n",
       "11  0.094825  1.519156    1.172046  0.000000         0.000000         0.000000  \n",
       "12  0.003702  4.550345   34.070103  0.000000         0.000000         0.000000  \n",
       "13  0.002109  4.757010   38.332612  0.000000         0.000000         0.000000  \n",
       "14  0.001206  6.507136   67.473049  0.000000         0.000000         0.000000  \n",
       "15  0.026286  4.327412   20.390689  0.019231         0.008772         0.019231  "
      ]
     },
     "execution_count": 65,
     "metadata": {},
     "output_type": "execute_result"
    }
   ],
   "source": [
    "eval_early_stopping_summary_df"
   ]
  },
  {
   "cell_type": "code",
   "execution_count": 66,
   "metadata": {},
   "outputs": [
    {
     "data": {
      "image/png": "[encoded data removed]",
      "text/plain": [
       "<Figure size 1440x720 with 1 Axes>"
      ]
     },
     "metadata": {},
     "output_type": "display_data"
    }
   ],
   "source": [
    "recommender_utils.plot_metric_dist(eval_dict=eval_results_early_stopping_dict, \n",
    "                                   metric='auc', \n",
    "                                   data_split='test', \n",
    "                                   title='Test set AUC distribution hyperopt model with early stopping', \n",
    "                                   axis_fontsize=20, \n",
    "                                   title_fontsize=20)"
   ]
  },
  {
   "cell_type": "code",
   "execution_count": 67,
   "metadata": {},
   "outputs": [],
   "source": [
    "# You can now experiment with this and see what happens."
   ]
  },
  {
   "cell_type": "code",
   "execution_count": null,
   "metadata": {},
   "outputs": [],
   "source": []
  }
 ],
 "metadata": {
  "kernelspec": {
   "display_name": "Python [conda env:basic_ml_36] *",
   "language": "python",
   "name": "conda-env-basic_ml_36-py"
  },
  "language_info": {
   "codemirror_mode": {
    "name": "ipython",
    "version": 3
   },
   "file_extension": ".py",
   "mimetype": "text/x-python",
   "name": "python",
   "nbconvert_exporter": "python",
   "pygments_lexer": "ipython3",
   "version": "3.6.7"
  }
 },
 "nbformat": 4,
 "nbformat_minor": 2
}
